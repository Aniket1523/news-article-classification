{
 "cells": [
  {
   "cell_type": "markdown",
   "id": "e2f455cf-2853-4dd0-a583-00305eb83d08",
   "metadata": {},
   "source": [
    "## 1. Importing Libraries and Loading Data"
   ]
  },
  {
   "cell_type": "markdown",
   "id": "3280f3cf-5a55-405d-a838-3b6b281eaa1f",
   "metadata": {},
   "source": [
    "### 1.1 Importing and downloading all the libraries required"
   ]
  },
  {
   "cell_type": "code",
   "execution_count": 32,
   "id": "bbef6164-e4d1-4a6d-ae25-e54170c7436c",
   "metadata": {},
   "outputs": [
    {
     "name": "stderr",
     "output_type": "stream",
     "text": [
      "[nltk_data] Downloading package punkt to\n",
      "[nltk_data]     C:\\Users\\c23034618\\AppData\\Roaming\\nltk_data...\n",
      "[nltk_data]   Package punkt is already up-to-date!\n",
      "[nltk_data] Downloading package wordnet to\n",
      "[nltk_data]     C:\\Users\\c23034618\\AppData\\Roaming\\nltk_data...\n",
      "[nltk_data]   Package wordnet is already up-to-date!\n",
      "[nltk_data] Downloading package omw-1.4 to\n",
      "[nltk_data]     C:\\Users\\c23034618\\AppData\\Roaming\\nltk_data...\n",
      "[nltk_data]   Package omw-1.4 is already up-to-date!\n",
      "[nltk_data] Downloading package stopwords to\n",
      "[nltk_data]     C:\\Users\\c23034618\\AppData\\Roaming\\nltk_data...\n",
      "[nltk_data]   Package stopwords is already up-to-date!\n"
     ]
    }
   ],
   "source": [
    "from sklearn.feature_extraction.text import TfidfVectorizer , TfidfTransformer \n",
    "from sklearn.feature_selection import SelectKBest, chi2\n",
    "from sklearn.model_selection import train_test_split, GridSearchCV\n",
    "from sklearn.ensemble import RandomForestClassifier\n",
    "from sklearn.metrics import classification_report, accuracy_score\n",
    "import pandas as pd\n",
    "import os\n",
    "import numpy as np\n",
    "import nltk\n",
    "from textblob import TextBlob\n",
    "import spacy\n",
    "nltk.download('punkt')\n",
    "nltk.download('wordnet')\n",
    "nltk.download('omw-1.4')\n",
    "nltk.download('stopwords')\n",
    "nlp = spacy.load(\"en_core_web_sm\")\n",
    "import matplotlib.pyplot as plt"
   ]
  },
  {
   "cell_type": "markdown",
   "id": "f26a35f4-e21b-4000-b901-c7934eb73a42",
   "metadata": {},
   "source": [
    "### 1.2 Reading the dataset by providing main_data_dir where the dataset is present"
   ]
  },
  {
   "cell_type": "code",
   "execution_count": 33,
   "id": "9b404d60-7c3d-414d-9260-df1c83d98206",
   "metadata": {},
   "outputs": [
    {
     "name": "stdout",
     "output_type": "stream",
     "text": [
      "     category                                               text\n",
      "2220     tech  BT program to beat dialler scams\\n\\nBT is intr...\n",
      "2221     tech  Spam e-mails tempt net shoppers\\n\\nComputer us...\n",
      "2222     tech  Be careful how you code\\n\\nA new European dire...\n",
      "2223     tech  US cyber security chief resigns\\n\\nThe man mak...\n",
      "2224     tech  Losing yourself in online gaming\\n\\nOnline rol...\n",
      "\n",
      "Rows:2225 Columns:2 in dataframe\n"
     ]
    }
   ],
   "source": [
    "data = []  \n",
    "#declare path where the dataset is stored\n",
    "main_data_dir = 'C:/Users/c23034618/OneDrive - Cardiff University/Desktop/Academic/AML/news-article-classification/bbc'\n",
    "\n",
    "def read_file(file_path, encodings=['utf-8', 'latin-1']):\n",
    "    for encoding in encodings:\n",
    "        try:\n",
    "            with open(file_path, 'r', encoding=encoding) as file:\n",
    "                content = file.read()\n",
    "            return content\n",
    "        except UnicodeDecodeError:\n",
    "            pass\n",
    "    print(f\"Unable to read file: {file_path}\")\n",
    "    return None\n",
    "\n",
    "for category in os.listdir(main_data_dir):\n",
    "    category_path = os.path.join(main_data_dir, category) #joining main_data_dir with each category folder\n",
    "    \n",
    "    if os.path.isdir(category_path):\n",
    "        \n",
    "        for filename in os.listdir(category_path):\n",
    "            file_path = os.path.join(category_path, filename)\n",
    "            content = read_file(file_path)  \n",
    "            \n",
    "            if content is not None:\n",
    "                data.append({'category': category, 'text': content}) \n",
    "          \n",
    "df = pd.DataFrame(data) #converting list containing data into dataframe\n",
    "print(df.tail())\n",
    "print(f'\\nRows:{df.shape[0]} Columns:{df.shape[1]} in dataframe')"
   ]
  },
  {
   "cell_type": "markdown",
   "id": "b2fec7f6-76f0-48ee-aebe-08be0b2da73e",
   "metadata": {},
   "source": [
    "## 2. Exploratory Data Analysis"
   ]
  },
  {
   "cell_type": "code",
   "execution_count": 34,
   "id": "bb704ce2-c8c9-4111-9be2-4018045fbaf1",
   "metadata": {},
   "outputs": [],
   "source": [
    "def check_remove_dupli(df):\n",
    "    print(f'Rows:{df.shape[0]} Columns:{df.shape[1]} in dataframe after reading')\n",
    "    print(f'{df.nunique().iloc[0]} Unique categories with {df.nunique().iloc[1]} unique articles')\n",
    "    \n",
    "    duplicates = df[df.duplicated(subset='text', keep=False)]\n",
    "    if not duplicates.empty:\n",
    "        grouped_duplicates = duplicates.groupby('text')['category'].apply(lambda x: ', '.join(x)).reset_index()\n",
    "        #check if we have duplicates from same category\n",
    "        same_category_duplicates = grouped_duplicates[grouped_duplicates['category'].str.split(', ').apply(lambda x: len(set(x)) == 1)]\n",
    "        \n",
    "        print('\\nDuplicated Text and the Category they appeared in:')\n",
    "        print(same_category_duplicates)\n",
    "        \n",
    "        if not same_category_duplicates.empty:\n",
    "            #drop if duplicates are from same category\n",
    "            df = df.drop_duplicates(subset=['text'], ignore_index=True)\n",
    "            print(f'\\nRows:{df.shape[0]} Columns:{df.shape[1]} in dataframe after dropping duplicates')\n",
    "        else:\n",
    "            print(\"No duplicate records found in data with same category\")\n",
    "    else:\n",
    "        print(\"No duplicate records found in data\")\n",
    "    return df"
   ]
  },
  {
   "cell_type": "code",
   "execution_count": 35,
   "id": "bad0a004-dfe0-4477-a408-2b5f8ddabeca",
   "metadata": {},
   "outputs": [
    {
     "name": "stdout",
     "output_type": "stream",
     "text": [
      "Rows:2225 Columns:2 in dataframe after reading\n",
      "5 Unique categories with 2127 unique articles\n",
      "\n",
      "Duplicated Text and the Category they appeared in:\n",
      "                                                 text            category\n",
      "0   'Brainwave' cap controls computer\\n\\nA team of...          tech, tech\n",
      "1   'Debate needed' on donations cap\\n\\nA cap on d...  politics, politics\n",
      "2   'Super union' merger plan touted\\n\\nTwo of Bri...  politics, politics\n",
      "3   'Ultimate game' award for Doom 3\\n\\nSci-fi sho...          tech, tech\n",
      "4   2D Metal Slug offers retro fun\\n\\nLike some dr...          tech, tech\n",
      "..                                                ...                 ...\n",
      "93  US peer-to-peer pirates convicted\\n\\nThe first...          tech, tech\n",
      "94  Virus poses as Christmas e-mail\\n\\nSecurity fi...          tech, tech\n",
      "95  Warning over tsunami aid website\\n\\nNet users ...          tech, tech\n",
      "96  Web radio takes Spanish rap global\\n\\nSpin the...          tech, tech\n",
      "97  What high-definition will do to DVDs\\n\\nFirst ...          tech, tech\n",
      "\n",
      "[98 rows x 2 columns]\n",
      "\n",
      "Rows:2127 Columns:2 in dataframe after dropping duplicates\n"
     ]
    }
   ],
   "source": [
    "df = check_remove_dupli(df)"
   ]
  },
  {
   "cell_type": "code",
   "execution_count": 36,
   "id": "74d8d25f-795c-42eb-bd4f-e434b4050cb6",
   "metadata": {},
   "outputs": [
    {
     "data": {
      "image/png": "[encoded data removed]",
      "text/plain": [
       "<Figure size 640x480 with 1 Axes>"
      ]
     },
     "metadata": {},
     "output_type": "display_data"
    }
   ],
   "source": [
    "category_counts = df['category'].value_counts()\n",
    "plt.bar(category_counts.index, category_counts, color='skyblue')\n",
    "plt.title('Number of Unique Articles per category Histogram')\n",
    "plt.xlabel('Category')\n",
    "plt.ylabel('Number of Articles')\n",
    "for i, count in enumerate(category_counts): #iterate through series category_counts\n",
    "    plt.text(i, count, str(count), ha='center', va='bottom')\n",
    "plt.show()"
   ]
  },
  {
   "cell_type": "markdown",
   "id": "54ab5839-ea3e-442e-a59e-e73daaa0d65b",
   "metadata": {},
   "source": [
    "## 3. Splitting data into training and test set"
   ]
  },
  {
   "cell_type": "code",
   "execution_count": 37,
   "id": "e10fba09-8380-4f01-b9b6-c315d22b0989",
   "metadata": {},
   "outputs": [],
   "source": [
    "def split_data(X, y, test_size, random_state):\n",
    "    X_train_df, X_test_df, y_train_df, y_test_df = train_test_split(X, y, test_size=test_size, random_state=random_state)\n",
    "    return X_train_df.to_frame(), X_test_df.to_frame(), y_train_df.to_frame(), y_test_df.to_frame()"
   ]
  },
  {
   "cell_type": "code",
   "execution_count": 38,
   "id": "22c02dc1-fecb-4b3a-b6ba-bd315c777eeb",
   "metadata": {},
   "outputs": [
    {
     "name": "stdout",
     "output_type": "stream",
     "text": [
      "\n",
      "Rows in Training Data: 1701 \n",
      "Rows in Testing Data: 426\n"
     ]
    }
   ],
   "source": [
    "X = df['text']  \n",
    "y = df['category'] \n",
    "X_train_df, X_test_df, y_train_df, y_test_df = split_data(X, y, test_size=0.2, random_state=42)\n",
    "print(f'\\nRows in Training Data: {X_train_df.shape[0]} ')\n",
    "print(f'Rows in Testing Data: {X_test_df.shape[0]}')"
   ]
  },
  {
   "cell_type": "markdown",
   "id": "60b9584b-cc01-4b37-82c4-9ed103bf082d",
   "metadata": {},
   "source": [
    "## 4. Extracting features from text data"
   ]
  },
  {
   "cell_type": "markdown",
   "id": "453cd547-592e-4027-b8a5-be5f2f91f1d9",
   "metadata": {},
   "source": [
    "### 4.1 Extracting tfidf(word frequency) features"
   ]
  },
  {
   "cell_type": "code",
   "execution_count": 39,
   "id": "2127a722-2261-48d9-a07c-b9f6408948f8",
   "metadata": {},
   "outputs": [],
   "source": [
    "lemmatizer = nltk.stem.WordNetLemmatizer()\n",
    "stopwords=set(nltk.corpus.stopwords.words('english'))\n",
    "stopwords.add(\".\")\n",
    "stopwords.add(\",\")\n",
    "stopwords.add(\"--\")\n",
    "stopwords.add(\"``\")\n",
    "stopwords.add(\":\")\n",
    "stopwords.add(\"'\")\n",
    "stopwords.add(\"-\")\n",
    "def preprocess_text(string): \n",
    "    sentence_split=nltk.tokenize.sent_tokenize(string) #converting paragraph into sentences\n",
    "    list_tokens=[]\n",
    "    for sentence in sentence_split:\n",
    "        list_tokens_sentence=nltk.tokenize.word_tokenize(sentence) #converting sentence into tokens\n",
    "        for token in list_tokens_sentence:\n",
    "            token = lemmatizer.lemmatize(token).lower() #converting word to lema and lowercasing \n",
    "            if token in stopwords: continue\n",
    "            list_tokens.append(token)\n",
    "    return \" \".join(list_tokens) #return the list of tokens after joining them as a string\n",
    "\n",
    "def preprocess_dataframe(input_df, column_name):\n",
    "    df_preprocessed = input_df.copy()\n",
    "    df_preprocessed[column_name] = input_df[column_name].apply(preprocess_text)\n",
    "    return df_preprocessed\n"
   ]
  },
  {
   "cell_type": "code",
   "execution_count": 40,
   "id": "c6a80272-b6dd-428f-95a7-baf2932b6a1a",
   "metadata": {},
   "outputs": [
    {
     "data": {
      "text/plain": [
       "<bound method NDFrame.head of                                                    text\n",
       "1233  mps demand 'budget leak answer ministers asked...\n",
       "480   world leader gather face uncertainty 2,000 bus...\n",
       "1111  sport betting rule spotlight group mps peer ha...\n",
       "1303  2004 irish athletics year 2004 wo n't remember...\n",
       "861   france set new da vinci novel french bookselle...\n",
       "...                                                 ...\n",
       "1638  november remember last saturday one newspaper ...\n",
       "1095  terror detainee win lords appeal detaining for...\n",
       "1130  labour seek quell feud talk labour 's leadersh...\n",
       "1294  chepkemei hit big ban kenya 's athletics body ...\n",
       "860   jackson film 'absolute disaster' pr expert ha ...\n",
       "\n",
       "[1701 rows x 1 columns]>"
      ]
     },
     "execution_count": 40,
     "metadata": {},
     "output_type": "execute_result"
    }
   ],
   "source": [
    "X_train_df_preprocessed = preprocess_dataframe(X_train_df, 'text')\n",
    "X_train_df_preprocessed.head"
   ]
  },
  {
   "cell_type": "code",
   "execution_count": 41,
   "id": "d4c819c9-facf-489a-977d-0fb407b621f5",
   "metadata": {},
   "outputs": [
    {
     "data": {
      "text/plain": [
       "<bound method NDFrame.head of                                                    text\n",
       "282   eu 'too slow economic reform eu country failed...\n",
       "1999  bbc web search aid odd query bbc 's online sea...\n",
       "1709  serena becomes world number two serena william...\n",
       "988   boothroyd call lords speaker betty boothroyd h...\n",
       "2018  fast lift rise record book two high-speed lift...\n",
       "...                                                 ...\n",
       "305   french bos leave eads french co-head european ...\n",
       "973   blunkett row end blair prime minister tony bla...\n",
       "611   elton play paris charity concert sir elton joh...\n",
       "2109  mobile tv tipped one watch scandinavians korea...\n",
       "192   borussia dortmund near bust german football cl...\n",
       "\n",
       "[426 rows x 1 columns]>"
      ]
     },
     "execution_count": 41,
     "metadata": {},
     "output_type": "execute_result"
    }
   ],
   "source": [
    "X_test_df_preprocessed = preprocess_dataframe(X_test_df, 'text')\n",
    "X_test_df_preprocessed.head"
   ]
  },
  {
   "cell_type": "code",
   "execution_count": 42,
   "id": "970a9d9f-ba93-42e5-9695-de0b88cfc63d",
   "metadata": {},
   "outputs": [
    {
     "name": "stdout",
     "output_type": "stream",
     "text": [
      "mps demand 'budget leak answer ministers asked explain budget detail printed london newspaper half hour gordon brown made speech tories said large chunk budget appeared leaked describe serious breach treasury confidentiality '' lib dems called commons leader peter hain make statement said chancellor resigned leak told would brought speaker michael martin 's attention commons tory frontbencher andrew tyrie mp demanded immediate ministerial statement measure clearly least apparently leaked evening standard '' raising point order said wa latest long line discourtesy house '' well breach confidentiality said hope unintentional planned would grave matter indeed previous labour chancellor resigned leaked budget '' hugh dalton resigned leaking detail 1947 budget journalist john carvel published london newspaper minute announced house commons liberal democrat david laws said wa serious matter '' said mr hain make statement thursday deputy speaker sylvia heal agreed wa concern '' said nothing could done immediately issue would brought mr martin 's attention\n"
     ]
    }
   ],
   "source": [
    "print(X_train_df_preprocessed['text'].iloc[0])"
   ]
  },
  {
   "cell_type": "code",
   "execution_count": 43,
   "id": "92d8ea51-9a9e-4a5e-9022-64480828dd2e",
   "metadata": {},
   "outputs": [],
   "source": [
    "def create_tfidf_matrix(input_train_df, input_test_df, max_features=500, k_best_features=200):\n",
    "    \n",
    "    tfidf_vectorizer = TfidfVectorizer(max_features=max_features)\n",
    "    X_train_tfidf = tfidf_vectorizer.fit_transform(input_train_df['text']) #fit and tranform training data using TfidfVectorizer\n",
    "    X_test_tfidf = tfidf_vectorizer.transform(input_test_df['text']) #transform using same TfidfVectorizer\n",
    "\n",
    "    feature_names = tfidf_vectorizer.get_feature_names_out()\n",
    "    k_best = SelectKBest(score_func=chi2, k=k_best_features)\n",
    "    \n",
    "    #feature selecrion using chi2\n",
    "    X_train_tfidf_selected = k_best.fit_transform(X_train_tfidf, X_train_df_preprocessed) \n",
    "    X_test_tfidf_selected = k_best.transform(X_test_tfidf)\n",
    "\n",
    "    selected_features_mask = k_best.get_support()\n",
    "     #get the words selected to assign it as a column name for dataframe\n",
    "    selected_words = [word for (word, is_selected) in zip(feature_names, selected_features_mask) if is_selected] \n",
    "\n",
    "    X_train_selected_df = pd.DataFrame(X_train_tfidf_selected.toarray(), columns=selected_words)\n",
    "    X_test_selected_df = pd.DataFrame(X_test_tfidf_selected.toarray(), columns=selected_words)\n",
    "\n",
    "    return X_train_selected_df, X_test_selected_df\n"
   ]
  },
  {
   "cell_type": "code",
   "execution_count": 44,
   "id": "fcbfe0b4-7ef7-43e2-8712-44abe96172fe",
   "metadata": {},
   "outputs": [],
   "source": [
    "X_train_tfidf_selected, X_test_tfidf_selected = create_tfidf_matrix(X_train_df_preprocessed, X_test_df_preprocessed)"
   ]
  },
  {
   "cell_type": "code",
   "execution_count": 45,
   "id": "95644370-d8f7-4bcf-826d-bf5ff93b40c4",
   "metadata": {
    "scrolled": true
   },
   "outputs": [
    {
     "data": {
      "text/html": [
       "<div>\n",
       "<style scoped>\n",
       "    .dataframe tbody tr th:only-of-type {\n",
       "        vertical-align: middle;\n",
       "    }\n",
       "\n",
       "    .dataframe tbody tr th {\n",
       "        vertical-align: top;\n",
       "    }\n",
       "\n",
       "    .dataframe thead th {\n",
       "        text-align: right;\n",
       "    }\n",
       "</style>\n",
       "<table border=\"1\" class=\"dataframe\">\n",
       "  <thead>\n",
       "    <tr style=\"text-align: right;\">\n",
       "      <th></th>\n",
       "      <th>50</th>\n",
       "      <th>act</th>\n",
       "      <th>actor</th>\n",
       "      <th>album</th>\n",
       "      <th>american</th>\n",
       "      <th>anti</th>\n",
       "      <th>attack</th>\n",
       "      <th>award</th>\n",
       "      <th>band</th>\n",
       "      <th>bank</th>\n",
       "      <th>...</th>\n",
       "      <th>virus</th>\n",
       "      <th>vote</th>\n",
       "      <th>wales</th>\n",
       "      <th>war</th>\n",
       "      <th>web</th>\n",
       "      <th>williams</th>\n",
       "      <th>winner</th>\n",
       "      <th>woman</th>\n",
       "      <th>young</th>\n",
       "      <th>yukos</th>\n",
       "    </tr>\n",
       "  </thead>\n",
       "  <tbody>\n",
       "    <tr>\n",
       "      <th>0</th>\n",
       "      <td>0.0</td>\n",
       "      <td>0.0</td>\n",
       "      <td>0.0</td>\n",
       "      <td>0.0</td>\n",
       "      <td>0.0</td>\n",
       "      <td>0.000000</td>\n",
       "      <td>0.0</td>\n",
       "      <td>0.0</td>\n",
       "      <td>0.0</td>\n",
       "      <td>0.0</td>\n",
       "      <td>...</td>\n",
       "      <td>0.000000</td>\n",
       "      <td>0.000000</td>\n",
       "      <td>0.0</td>\n",
       "      <td>0.0</td>\n",
       "      <td>0.0</td>\n",
       "      <td>0.0</td>\n",
       "      <td>0.000000</td>\n",
       "      <td>0.000000</td>\n",
       "      <td>0.0</td>\n",
       "      <td>0.0</td>\n",
       "    </tr>\n",
       "    <tr>\n",
       "      <th>1</th>\n",
       "      <td>0.0</td>\n",
       "      <td>0.0</td>\n",
       "      <td>0.0</td>\n",
       "      <td>0.0</td>\n",
       "      <td>0.0</td>\n",
       "      <td>0.050808</td>\n",
       "      <td>0.0</td>\n",
       "      <td>0.0</td>\n",
       "      <td>0.0</td>\n",
       "      <td>0.0</td>\n",
       "      <td>...</td>\n",
       "      <td>0.000000</td>\n",
       "      <td>0.000000</td>\n",
       "      <td>0.0</td>\n",
       "      <td>0.0</td>\n",
       "      <td>0.0</td>\n",
       "      <td>0.0</td>\n",
       "      <td>0.000000</td>\n",
       "      <td>0.000000</td>\n",
       "      <td>0.0</td>\n",
       "      <td>0.0</td>\n",
       "    </tr>\n",
       "    <tr>\n",
       "      <th>2</th>\n",
       "      <td>0.0</td>\n",
       "      <td>0.0</td>\n",
       "      <td>0.0</td>\n",
       "      <td>0.0</td>\n",
       "      <td>0.0</td>\n",
       "      <td>0.082289</td>\n",
       "      <td>0.0</td>\n",
       "      <td>0.0</td>\n",
       "      <td>0.0</td>\n",
       "      <td>0.0</td>\n",
       "      <td>...</td>\n",
       "      <td>0.000000</td>\n",
       "      <td>0.000000</td>\n",
       "      <td>0.0</td>\n",
       "      <td>0.0</td>\n",
       "      <td>0.0</td>\n",
       "      <td>0.0</td>\n",
       "      <td>0.000000</td>\n",
       "      <td>0.000000</td>\n",
       "      <td>0.0</td>\n",
       "      <td>0.0</td>\n",
       "    </tr>\n",
       "    <tr>\n",
       "      <th>3</th>\n",
       "      <td>0.0</td>\n",
       "      <td>0.0</td>\n",
       "      <td>0.0</td>\n",
       "      <td>0.0</td>\n",
       "      <td>0.0</td>\n",
       "      <td>0.000000</td>\n",
       "      <td>0.0</td>\n",
       "      <td>0.0</td>\n",
       "      <td>0.0</td>\n",
       "      <td>0.0</td>\n",
       "      <td>...</td>\n",
       "      <td>0.089937</td>\n",
       "      <td>0.072778</td>\n",
       "      <td>0.0</td>\n",
       "      <td>0.0</td>\n",
       "      <td>0.0</td>\n",
       "      <td>0.0</td>\n",
       "      <td>0.071175</td>\n",
       "      <td>0.071005</td>\n",
       "      <td>0.0</td>\n",
       "      <td>0.0</td>\n",
       "    </tr>\n",
       "    <tr>\n",
       "      <th>4</th>\n",
       "      <td>0.0</td>\n",
       "      <td>0.0</td>\n",
       "      <td>0.0</td>\n",
       "      <td>0.0</td>\n",
       "      <td>0.0</td>\n",
       "      <td>0.000000</td>\n",
       "      <td>0.0</td>\n",
       "      <td>0.0</td>\n",
       "      <td>0.0</td>\n",
       "      <td>0.0</td>\n",
       "      <td>...</td>\n",
       "      <td>0.000000</td>\n",
       "      <td>0.000000</td>\n",
       "      <td>0.0</td>\n",
       "      <td>0.0</td>\n",
       "      <td>0.0</td>\n",
       "      <td>0.0</td>\n",
       "      <td>0.000000</td>\n",
       "      <td>0.000000</td>\n",
       "      <td>0.0</td>\n",
       "      <td>0.0</td>\n",
       "    </tr>\n",
       "  </tbody>\n",
       "</table>\n",
       "<p>5 rows × 200 columns</p>\n",
       "</div>"
      ],
      "text/plain": [
       "    50  act  actor  album  american      anti  attack  award  band  bank  ...  \\\n",
       "0  0.0  0.0    0.0    0.0       0.0  0.000000     0.0    0.0   0.0   0.0  ...   \n",
       "1  0.0  0.0    0.0    0.0       0.0  0.050808     0.0    0.0   0.0   0.0  ...   \n",
       "2  0.0  0.0    0.0    0.0       0.0  0.082289     0.0    0.0   0.0   0.0  ...   \n",
       "3  0.0  0.0    0.0    0.0       0.0  0.000000     0.0    0.0   0.0   0.0  ...   \n",
       "4  0.0  0.0    0.0    0.0       0.0  0.000000     0.0    0.0   0.0   0.0  ...   \n",
       "\n",
       "      virus      vote  wales  war  web  williams    winner     woman  young  \\\n",
       "0  0.000000  0.000000    0.0  0.0  0.0       0.0  0.000000  0.000000    0.0   \n",
       "1  0.000000  0.000000    0.0  0.0  0.0       0.0  0.000000  0.000000    0.0   \n",
       "2  0.000000  0.000000    0.0  0.0  0.0       0.0  0.000000  0.000000    0.0   \n",
       "3  0.089937  0.072778    0.0  0.0  0.0       0.0  0.071175  0.071005    0.0   \n",
       "4  0.000000  0.000000    0.0  0.0  0.0       0.0  0.000000  0.000000    0.0   \n",
       "\n",
       "   yukos  \n",
       "0    0.0  \n",
       "1    0.0  \n",
       "2    0.0  \n",
       "3    0.0  \n",
       "4    0.0  \n",
       "\n",
       "[5 rows x 200 columns]"
      ]
     },
     "execution_count": 45,
     "metadata": {},
     "output_type": "execute_result"
    }
   ],
   "source": [
    "X_train_tfidf_selected.head()"
   ]
  },
  {
   "cell_type": "code",
   "execution_count": 46,
   "id": "948c6624-cb43-4e4e-9c62-98fc49c11663",
   "metadata": {},
   "outputs": [
    {
     "data": {
      "text/html": [
       "<div>\n",
       "<style scoped>\n",
       "    .dataframe tbody tr th:only-of-type {\n",
       "        vertical-align: middle;\n",
       "    }\n",
       "\n",
       "    .dataframe tbody tr th {\n",
       "        vertical-align: top;\n",
       "    }\n",
       "\n",
       "    .dataframe thead th {\n",
       "        text-align: right;\n",
       "    }\n",
       "</style>\n",
       "<table border=\"1\" class=\"dataframe\">\n",
       "  <thead>\n",
       "    <tr style=\"text-align: right;\">\n",
       "      <th></th>\n",
       "      <th>50</th>\n",
       "      <th>act</th>\n",
       "      <th>actor</th>\n",
       "      <th>album</th>\n",
       "      <th>american</th>\n",
       "      <th>anti</th>\n",
       "      <th>attack</th>\n",
       "      <th>award</th>\n",
       "      <th>band</th>\n",
       "      <th>bank</th>\n",
       "      <th>...</th>\n",
       "      <th>virus</th>\n",
       "      <th>vote</th>\n",
       "      <th>wales</th>\n",
       "      <th>war</th>\n",
       "      <th>web</th>\n",
       "      <th>williams</th>\n",
       "      <th>winner</th>\n",
       "      <th>woman</th>\n",
       "      <th>young</th>\n",
       "      <th>yukos</th>\n",
       "    </tr>\n",
       "  </thead>\n",
       "  <tbody>\n",
       "    <tr>\n",
       "      <th>0</th>\n",
       "      <td>0.000000</td>\n",
       "      <td>0.0</td>\n",
       "      <td>0.0</td>\n",
       "      <td>0.0</td>\n",
       "      <td>0.0</td>\n",
       "      <td>0.0</td>\n",
       "      <td>0.0</td>\n",
       "      <td>0.0</td>\n",
       "      <td>0.0</td>\n",
       "      <td>0.0</td>\n",
       "      <td>...</td>\n",
       "      <td>0.0</td>\n",
       "      <td>0.0</td>\n",
       "      <td>0.0</td>\n",
       "      <td>0.0</td>\n",
       "      <td>0.000000</td>\n",
       "      <td>0.000000</td>\n",
       "      <td>0.0</td>\n",
       "      <td>0.085820</td>\n",
       "      <td>0.0</td>\n",
       "      <td>0.0</td>\n",
       "    </tr>\n",
       "    <tr>\n",
       "      <th>1</th>\n",
       "      <td>0.000000</td>\n",
       "      <td>0.0</td>\n",
       "      <td>0.0</td>\n",
       "      <td>0.0</td>\n",
       "      <td>0.0</td>\n",
       "      <td>0.0</td>\n",
       "      <td>0.0</td>\n",
       "      <td>0.0</td>\n",
       "      <td>0.0</td>\n",
       "      <td>0.0</td>\n",
       "      <td>...</td>\n",
       "      <td>0.0</td>\n",
       "      <td>0.0</td>\n",
       "      <td>0.0</td>\n",
       "      <td>0.0</td>\n",
       "      <td>0.247567</td>\n",
       "      <td>0.000000</td>\n",
       "      <td>0.0</td>\n",
       "      <td>0.000000</td>\n",
       "      <td>0.0</td>\n",
       "      <td>0.0</td>\n",
       "    </tr>\n",
       "    <tr>\n",
       "      <th>2</th>\n",
       "      <td>0.000000</td>\n",
       "      <td>0.0</td>\n",
       "      <td>0.0</td>\n",
       "      <td>0.0</td>\n",
       "      <td>0.0</td>\n",
       "      <td>0.0</td>\n",
       "      <td>0.0</td>\n",
       "      <td>0.0</td>\n",
       "      <td>0.0</td>\n",
       "      <td>0.0</td>\n",
       "      <td>...</td>\n",
       "      <td>0.0</td>\n",
       "      <td>0.0</td>\n",
       "      <td>0.0</td>\n",
       "      <td>0.0</td>\n",
       "      <td>0.000000</td>\n",
       "      <td>0.298727</td>\n",
       "      <td>0.0</td>\n",
       "      <td>0.261856</td>\n",
       "      <td>0.0</td>\n",
       "      <td>0.0</td>\n",
       "    </tr>\n",
       "    <tr>\n",
       "      <th>3</th>\n",
       "      <td>0.000000</td>\n",
       "      <td>0.0</td>\n",
       "      <td>0.0</td>\n",
       "      <td>0.0</td>\n",
       "      <td>0.0</td>\n",
       "      <td>0.0</td>\n",
       "      <td>0.0</td>\n",
       "      <td>0.0</td>\n",
       "      <td>0.0</td>\n",
       "      <td>0.0</td>\n",
       "      <td>...</td>\n",
       "      <td>0.0</td>\n",
       "      <td>0.0</td>\n",
       "      <td>0.0</td>\n",
       "      <td>0.0</td>\n",
       "      <td>0.000000</td>\n",
       "      <td>0.000000</td>\n",
       "      <td>0.0</td>\n",
       "      <td>0.096102</td>\n",
       "      <td>0.0</td>\n",
       "      <td>0.0</td>\n",
       "    </tr>\n",
       "    <tr>\n",
       "      <th>4</th>\n",
       "      <td>0.144083</td>\n",
       "      <td>0.0</td>\n",
       "      <td>0.0</td>\n",
       "      <td>0.0</td>\n",
       "      <td>0.0</td>\n",
       "      <td>0.0</td>\n",
       "      <td>0.0</td>\n",
       "      <td>0.0</td>\n",
       "      <td>0.0</td>\n",
       "      <td>0.0</td>\n",
       "      <td>...</td>\n",
       "      <td>0.0</td>\n",
       "      <td>0.0</td>\n",
       "      <td>0.0</td>\n",
       "      <td>0.0</td>\n",
       "      <td>0.000000</td>\n",
       "      <td>0.000000</td>\n",
       "      <td>0.0</td>\n",
       "      <td>0.000000</td>\n",
       "      <td>0.0</td>\n",
       "      <td>0.0</td>\n",
       "    </tr>\n",
       "  </tbody>\n",
       "</table>\n",
       "<p>5 rows × 200 columns</p>\n",
       "</div>"
      ],
      "text/plain": [
       "         50  act  actor  album  american  anti  attack  award  band  bank  \\\n",
       "0  0.000000  0.0    0.0    0.0       0.0   0.0     0.0    0.0   0.0   0.0   \n",
       "1  0.000000  0.0    0.0    0.0       0.0   0.0     0.0    0.0   0.0   0.0   \n",
       "2  0.000000  0.0    0.0    0.0       0.0   0.0     0.0    0.0   0.0   0.0   \n",
       "3  0.000000  0.0    0.0    0.0       0.0   0.0     0.0    0.0   0.0   0.0   \n",
       "4  0.144083  0.0    0.0    0.0       0.0   0.0     0.0    0.0   0.0   0.0   \n",
       "\n",
       "   ...  virus  vote  wales  war       web  williams  winner     woman  young  \\\n",
       "0  ...    0.0   0.0    0.0  0.0  0.000000  0.000000     0.0  0.085820    0.0   \n",
       "1  ...    0.0   0.0    0.0  0.0  0.247567  0.000000     0.0  0.000000    0.0   \n",
       "2  ...    0.0   0.0    0.0  0.0  0.000000  0.298727     0.0  0.261856    0.0   \n",
       "3  ...    0.0   0.0    0.0  0.0  0.000000  0.000000     0.0  0.096102    0.0   \n",
       "4  ...    0.0   0.0    0.0  0.0  0.000000  0.000000     0.0  0.000000    0.0   \n",
       "\n",
       "   yukos  \n",
       "0    0.0  \n",
       "1    0.0  \n",
       "2    0.0  \n",
       "3    0.0  \n",
       "4    0.0  \n",
       "\n",
       "[5 rows x 200 columns]"
      ]
     },
     "execution_count": 46,
     "metadata": {},
     "output_type": "execute_result"
    }
   ],
   "source": [
    "X_test_tfidf_selected.head()"
   ]
  },
  {
   "cell_type": "markdown",
   "id": "f0273b9d-7b4a-4131-bd5b-9247256a0ef4",
   "metadata": {},
   "source": [
    "### 4.2 Extracting sentiment score as a feature"
   ]
  },
  {
   "cell_type": "code",
   "execution_count": 47,
   "id": "bcfef8fe-1bf7-42d1-ab5a-5dbccf3d8905",
   "metadata": {},
   "outputs": [
    {
     "name": "stdout",
     "output_type": "stream",
     "text": [
      "Shape of X_sentiment_train: (1701, 1)\n",
      "Shape of X_sentiment_test: (426, 1)\n"
     ]
    }
   ],
   "source": [
    "def create_sentiment_arrays(train_df, test_df, column_name):\n",
    "    train_sentiment_array = np.array(train_df[column_name].apply(lambda x: TextBlob(x).sentiment.polarity))[:, None]\n",
    "    train_sentiment_df = pd.DataFrame(train_sentiment_array, columns=[\"sentiment_score\"])\n",
    "\n",
    "    test_sentiment_array = np.array(test_df[column_name].apply(lambda x: TextBlob(x).sentiment.polarity))[:, None]\n",
    "    test_sentiment_df = pd.DataFrame(test_sentiment_array, columns=[\"sentiment_score\"])\n",
    "\n",
    "    return train_sentiment_df, test_sentiment_df\n",
    "\n",
    "X_sentiment_train, X_sentiment_test = create_sentiment_arrays(X_train_df, X_test_df, 'text')\n",
    "\n",
    "print(\"Shape of X_sentiment_train:\", X_sentiment_train.shape)\n",
    "print(\"Shape of X_sentiment_test:\", X_sentiment_test.shape)\n"
   ]
  },
  {
   "cell_type": "code",
   "execution_count": 48,
   "id": "adced4da-f1b9-44e3-9f62-aff1b2268b25",
   "metadata": {},
   "outputs": [
    {
     "data": {
      "text/html": [
       "<div>\n",
       "<style scoped>\n",
       "    .dataframe tbody tr th:only-of-type {\n",
       "        vertical-align: middle;\n",
       "    }\n",
       "\n",
       "    .dataframe tbody tr th {\n",
       "        vertical-align: top;\n",
       "    }\n",
       "\n",
       "    .dataframe thead th {\n",
       "        text-align: right;\n",
       "    }\n",
       "</style>\n",
       "<table border=\"1\" class=\"dataframe\">\n",
       "  <thead>\n",
       "    <tr style=\"text-align: right;\">\n",
       "      <th></th>\n",
       "      <th>sentiment_score</th>\n",
       "    </tr>\n",
       "  </thead>\n",
       "  <tbody>\n",
       "    <tr>\n",
       "      <th>0</th>\n",
       "      <td>-0.040476</td>\n",
       "    </tr>\n",
       "    <tr>\n",
       "      <th>1</th>\n",
       "      <td>0.115792</td>\n",
       "    </tr>\n",
       "    <tr>\n",
       "      <th>2</th>\n",
       "      <td>0.111466</td>\n",
       "    </tr>\n",
       "    <tr>\n",
       "      <th>3</th>\n",
       "      <td>0.079755</td>\n",
       "    </tr>\n",
       "    <tr>\n",
       "      <th>4</th>\n",
       "      <td>0.197162</td>\n",
       "    </tr>\n",
       "  </tbody>\n",
       "</table>\n",
       "</div>"
      ],
      "text/plain": [
       "   sentiment_score\n",
       "0        -0.040476\n",
       "1         0.115792\n",
       "2         0.111466\n",
       "3         0.079755\n",
       "4         0.197162"
      ]
     },
     "execution_count": 48,
     "metadata": {},
     "output_type": "execute_result"
    }
   ],
   "source": [
    "X_sentiment_train.head()"
   ]
  },
  {
   "cell_type": "markdown",
   "id": "9dea82ea-20ea-4c3d-a6a8-f73102eaed4b",
   "metadata": {},
   "source": [
    "### 6.3 Extracting Named Entities as a feature"
   ]
  },
  {
   "cell_type": "code",
   "execution_count": 49,
   "id": "d1c3de5a-0860-4d52-8979-1c81a456e561",
   "metadata": {},
   "outputs": [
    {
     "name": "stdout",
     "output_type": "stream",
     "text": [
      "\n",
      "Training Entity Data: Rows = 1701 columns = 4\n",
      "Testing Entity Data: Rows = 426 columns = 4\n"
     ]
    }
   ],
   "source": [
    "def calculate_entity_frequencies(text, selected_entities=['ORG', 'PERSON', 'CARDINAL','DATE']):\n",
    "    doc = nlp(text)\n",
    "    \n",
    "    entity_counts = {ent.label_: 0 for ent in doc.ents}\n",
    "    for ent in doc.ents:\n",
    "        entity_counts[ent.label_] += 1\n",
    "    #filter out selceted entities\n",
    "    filtered_entity_counts = {label: entity_counts[label] / len(doc.ents) for label in selected_entities if label in entity_counts}\n",
    "    \n",
    "    return filtered_entity_counts\n",
    "\n",
    "def extract_entity_frequencies(train_texts, test_texts):\n",
    "    train_df = pd.DataFrame(train_texts, columns=['text'])\n",
    "    test_df = pd.DataFrame(test_texts, columns=['text'])\n",
    "    \n",
    "    train_entity_frequencies = train_df['text'].apply(calculate_entity_frequencies).tolist()\n",
    "    train_entity_df = pd.DataFrame(train_entity_frequencies).fillna(0)\n",
    "    \n",
    "    test_entity_frequencies = test_df['text'].apply(calculate_entity_frequencies).tolist()\n",
    "    test_entity_df = pd.DataFrame(test_entity_frequencies).fillna(0)\n",
    "\n",
    "    #reindexing columns to maintain uniformity as entity count is fetched according to sequence they appear\n",
    "    train_entity_df = train_entity_df.reindex(columns=selected_entities)\n",
    "    test_entity_df = test_entity_df.reindex(columns=selected_entities)\n",
    "    \n",
    "    return train_entity_df, test_entity_df\n",
    "\n",
    "\n",
    "train_texts = X_train_df['text'].tolist()\n",
    "test_texts = X_test_df['text'].tolist()\n",
    "selected_entities = ['ORG', 'PERSON', 'CARDINAL','DATE'] #select  only 4 entities count \n",
    "train_entity_df, test_entity_df = extract_entity_frequencies(X_train_df_preprocessed, X_test_df_preprocessed)\n",
    "print(f'\\nTraining Entity Data: Rows = {train_entity_df.shape[0]} columns = {train_entity_df.shape[1]}')\n",
    "print(f'Testing Entity Data: Rows = {test_entity_df.shape[0]} columns = {test_entity_df.shape[1]}')"
   ]
  },
  {
   "cell_type": "code",
   "execution_count": 50,
   "id": "f1bd6230-86a7-4588-976a-186b36fec0df",
   "metadata": {},
   "outputs": [
    {
     "data": {
      "text/html": [
       "<div>\n",
       "<style scoped>\n",
       "    .dataframe tbody tr th:only-of-type {\n",
       "        vertical-align: middle;\n",
       "    }\n",
       "\n",
       "    .dataframe tbody tr th {\n",
       "        vertical-align: top;\n",
       "    }\n",
       "\n",
       "    .dataframe thead th {\n",
       "        text-align: right;\n",
       "    }\n",
       "</style>\n",
       "<table border=\"1\" class=\"dataframe\">\n",
       "  <thead>\n",
       "    <tr style=\"text-align: right;\">\n",
       "      <th></th>\n",
       "      <th>ORG</th>\n",
       "      <th>PERSON</th>\n",
       "      <th>CARDINAL</th>\n",
       "      <th>DATE</th>\n",
       "    </tr>\n",
       "  </thead>\n",
       "  <tbody>\n",
       "    <tr>\n",
       "      <th>0</th>\n",
       "      <td>0.111111</td>\n",
       "      <td>0.500000</td>\n",
       "      <td>0.055556</td>\n",
       "      <td>0.055556</td>\n",
       "    </tr>\n",
       "    <tr>\n",
       "      <th>1</th>\n",
       "      <td>0.092308</td>\n",
       "      <td>0.276923</td>\n",
       "      <td>0.123077</td>\n",
       "      <td>0.153846</td>\n",
       "    </tr>\n",
       "    <tr>\n",
       "      <th>2</th>\n",
       "      <td>0.000000</td>\n",
       "      <td>0.166667</td>\n",
       "      <td>0.333333</td>\n",
       "      <td>0.500000</td>\n",
       "    </tr>\n",
       "    <tr>\n",
       "      <th>3</th>\n",
       "      <td>0.019608</td>\n",
       "      <td>0.196078</td>\n",
       "      <td>0.176471</td>\n",
       "      <td>0.333333</td>\n",
       "    </tr>\n",
       "    <tr>\n",
       "      <th>4</th>\n",
       "      <td>0.064516</td>\n",
       "      <td>0.387097</td>\n",
       "      <td>0.064516</td>\n",
       "      <td>0.096774</td>\n",
       "    </tr>\n",
       "  </tbody>\n",
       "</table>\n",
       "</div>"
      ],
      "text/plain": [
       "        ORG    PERSON  CARDINAL      DATE\n",
       "0  0.111111  0.500000  0.055556  0.055556\n",
       "1  0.092308  0.276923  0.123077  0.153846\n",
       "2  0.000000  0.166667  0.333333  0.500000\n",
       "3  0.019608  0.196078  0.176471  0.333333\n",
       "4  0.064516  0.387097  0.064516  0.096774"
      ]
     },
     "execution_count": 50,
     "metadata": {},
     "output_type": "execute_result"
    }
   ],
   "source": [
    "train_entity_df.head()"
   ]
  },
  {
   "cell_type": "code",
   "execution_count": 51,
   "id": "d2ecc0a7-f02d-4f0e-9c1e-998fed32c3c4",
   "metadata": {},
   "outputs": [
    {
     "name": "stdout",
     "output_type": "stream",
     "text": [
      "\n",
      "Final Training Data: Rows = 1701 columns = 205\n",
      "Final Testing Data: Rows = 426 columns = 205\n"
     ]
    }
   ],
   "source": [
    "X_train_final = pd.concat([X_train_tfidf_selected, X_sentiment_train, train_entity_df], axis=1)\n",
    "X_test_final = pd.concat([X_test_tfidf_selected, X_sentiment_test, test_entity_df], axis=1)\n",
    "print(f'\\nFinal Training Data: Rows = {X_train_final.shape[0]} columns = {X_train_final.shape[1]}')\n",
    "print(f'Final Testing Data: Rows = {X_test_final.shape[0]} columns = {X_test_final.shape[1]}')"
   ]
  },
  {
   "cell_type": "code",
   "execution_count": 52,
   "id": "dd781179-c72f-416f-b192-d5d12fa4bd7b",
   "metadata": {},
   "outputs": [],
   "source": [
    "y_test_final = np.array(y_test_df).ravel()\n",
    "y_train_final = np.array(y_train_df).ravel()"
   ]
  },
  {
   "cell_type": "markdown",
   "id": "2a76bd4d-74ba-4bdb-b6d0-2382862748c0",
   "metadata": {},
   "source": [
    "## 7. Training RandomForestClassifier model"
   ]
  },
  {
   "cell_type": "code",
   "execution_count": 53,
   "id": "7c6f19ac-95c8-4229-ab1c-0eeb3cb19c8b",
   "metadata": {},
   "outputs": [],
   "source": [
    "def evaluate_model(model, X, y):\n",
    "    y_pred = model.predict(X)\n",
    "    test_accuracy = accuracy_score(y, y_pred)\n",
    "    print(f'Accuracy of {model}: {test_accuracy}')\n",
    "    print(classification_report(y, y_pred))"
   ]
  },
  {
   "cell_type": "code",
   "execution_count": 54,
   "id": "75743f95-9915-4481-92af-ea0e9fcc6ad3",
   "metadata": {},
   "outputs": [
    {
     "name": "stdout",
     "output_type": "stream",
     "text": [
      "Accuracy of RandomForestClassifier(random_state=42): 0.9436619718309859\n",
      "               precision    recall  f1-score   support\n",
      "\n",
      "     business       0.94      0.92      0.93       104\n",
      "entertainment       0.94      0.92      0.93        78\n",
      "     politics       0.93      0.97      0.95        73\n",
      "        sport       0.97      0.96      0.96        98\n",
      "         tech       0.93      0.95      0.94        73\n",
      "\n",
      "     accuracy                           0.94       426\n",
      "    macro avg       0.94      0.94      0.94       426\n",
      " weighted avg       0.94      0.94      0.94       426\n",
      "\n"
     ]
    }
   ],
   "source": [
    "base_model = RandomForestClassifier(random_state=42)\n",
    "base_model.fit(X_train_final, y_train_final) #training base model\n",
    "evaluate_model(base_model,X_test_final, y_test_final) #Evaluating base model"
   ]
  },
  {
   "cell_type": "code",
   "execution_count": 55,
   "id": "1a73e74e-6690-4181-ac68-a4de0cb6e0ef",
   "metadata": {},
   "outputs": [],
   "source": [
    "def perform_grid_search(X_train, y_train):\n",
    "    param_grid = {\n",
    "        'max_depth': [None, 10, 20],\n",
    "        'min_samples_split': [2, 4, 5],\n",
    "        'min_samples_leaf': [1, 2, 3],\n",
    "        'n_estimators': [75, 100, 125],\n",
    "        'max_features': [5, 7, 12]\n",
    "    } #possible parameter values for parameter tuning\n",
    "\n",
    "    rf_model = RandomForestClassifier(random_state=42)\n",
    "\n",
    "    grid_search = GridSearchCV(estimator=rf_model, param_grid=param_grid, cv=3, scoring='accuracy', verbose=3, n_jobs=-1)\n",
    "    grid_search.fit(X_train, y_train)\n",
    "\n",
    "    print(\"Best Parameters:\", grid_search.best_params_)\n",
    "    print(\"Accuracy for Best model:\", grid_search.best_score_)\n",
    "\n",
    "    return grid_search.best_estimator_\n",
    "\n"
   ]
  },
  {
   "cell_type": "code",
   "execution_count": 56,
   "id": "385ee059-7fd5-4802-9f5f-eb52f0cb0c56",
   "metadata": {},
   "outputs": [
    {
     "name": "stdout",
     "output_type": "stream",
     "text": [
      "Fitting 3 folds for each of 243 candidates, totalling 729 fits\n",
      "Best Parameters: {'max_depth': None, 'max_features': 5, 'min_samples_leaf': 1, 'min_samples_split': 4, 'n_estimators': 125}\n",
      "Accuracy for Best model: 0.9465020576131687\n"
     ]
    }
   ],
   "source": [
    "best_model = perform_grid_search(X_train_final, y_train_final)"
   ]
  },
  {
   "cell_type": "code",
   "execution_count": 57,
   "id": "89bd303b-8f8f-4f59-8bc4-96bac8b5d7a4",
   "metadata": {},
   "outputs": [
    {
     "name": "stdout",
     "output_type": "stream",
     "text": [
      "Accuracy of RandomForestClassifier(max_features=5, min_samples_split=4, n_estimators=125,\n",
      "                       random_state=42): 0.9671361502347418\n",
      "               precision    recall  f1-score   support\n",
      "\n",
      "     business       0.95      0.98      0.97       104\n",
      "entertainment       0.97      0.94      0.95        78\n",
      "     politics       0.96      0.97      0.97        73\n",
      "        sport       0.97      0.97      0.97        98\n",
      "         tech       0.99      0.97      0.98        73\n",
      "\n",
      "     accuracy                           0.97       426\n",
      "    macro avg       0.97      0.97      0.97       426\n",
      " weighted avg       0.97      0.97      0.97       426\n",
      "\n"
     ]
    }
   ],
   "source": [
    "evaluate_model(best_model,X_test_final, y_test_final)"
   ]
  },
  {
   "cell_type": "code",
   "execution_count": null,
   "id": "ae0fdd7a-27e4-4bd3-88d6-7b77e3a24bec",
   "metadata": {},
   "outputs": [],
   "source": []
  },
  {
   "cell_type": "code",
   "execution_count": null,
   "id": "5e8c1220-6b66-4895-b699-ce0c54118ff5",
   "metadata": {},
   "outputs": [],
   "source": []
  },
  {
   "cell_type": "code",
   "execution_count": null,
   "id": "00cece94-6f72-436c-9774-586eff0afe23",
   "metadata": {},
   "outputs": [],
   "source": []
  },
  {
   "cell_type": "code",
   "execution_count": null,
   "id": "2e5d354e-e03f-40d4-ae58-c4356af4961f",
   "metadata": {},
   "outputs": [],
   "source": []
  }
 ],
 "metadata": {
  "kernelspec": {
   "display_name": "Python 3 (ipykernel)",
   "language": "python",
   "name": "python3"
  },
  "language_info": {
   "codemirror_mode": {
    "name": "ipython",
    "version": 3
   },
   "file_extension": ".py",
   "mimetype": "text/x-python",
   "name": "python",
   "nbconvert_exporter": "python",
   "pygments_lexer": "ipython3",
   "version": "3.11.7"
  }
 },
 "nbformat": 4,
 "nbformat_minor": 5
}
